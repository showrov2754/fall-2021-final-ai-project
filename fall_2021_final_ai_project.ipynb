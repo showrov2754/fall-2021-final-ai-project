{
  "nbformat": 4,
  "nbformat_minor": 0,
  "metadata": {
    "colab": {
      "name": "fall 2021 final ai project.ipynb",
      "provenance": [],
      "collapsed_sections": [],
      "authorship_tag": "ABX9TyMAYSPIMYmNsjfO0lkxclcL",
      "include_colab_link": true
    },
    "kernelspec": {
      "name": "python3",
      "display_name": "Python 3"
    },
    "language_info": {
      "name": "python"
    }
  },
  "cells": [
    {
      "cell_type": "markdown",
      "metadata": {
        "id": "view-in-github",
        "colab_type": "text"
      },
      "source": [
        "<a href=\"https://colab.research.google.com/github/showrov2754/fall-2021-final-ai-project/blob/main/fall_2021_final_ai_project.ipynb\" target=\"_parent\"><img src=\"https://colab.research.google.com/assets/colab-badge.svg\" alt=\"Open In Colab\"/></a>"
      ]
    },
    {
      "cell_type": "code",
      "metadata": {
        "colab": {
          "base_uri": "https://localhost:8080/"
        },
        "id": "9c8G9fmeAWc8",
        "outputId": "3f288479-581e-4302-d662-b54201972c73"
      },
      "source": [
        "from google.colab import drive\n",
        "drive.mount('/content/gdrive')"
      ],
      "execution_count": 4,
      "outputs": [
        {
          "output_type": "stream",
          "name": "stdout",
          "text": [
            "Mounted at /content/gdrive\n"
          ]
        }
      ]
    },
    {
      "cell_type": "code",
      "metadata": {
        "id": "OYhCAUu-AyZG"
      },
      "source": [
        "import pandas as pd"
      ],
      "execution_count": 5,
      "outputs": []
    },
    {
      "cell_type": "code",
      "metadata": {
        "id": "e188ToXgBBMz"
      },
      "source": [
        "wtmoc = pd.read_csv('gdrive/My Drive/Colab Notebooks/Ai project/ai project dataset.csv')"
      ],
      "execution_count": 6,
      "outputs": []
    },
    {
      "cell_type": "markdown",
      "metadata": {
        "id": "mHw26MVbBWFU"
      },
      "source": [
        "**Show Dataset**"
      ]
    },
    {
      "cell_type": "code",
      "metadata": {
        "colab": {
          "base_uri": "https://localhost:8080/",
          "height": 206
        },
        "id": "57xH08MfBYgE",
        "outputId": "2e466cc4-49f9-415d-db36-80441931c1b0"
      },
      "source": [
        "wtmoc.head()"
      ],
      "execution_count": 7,
      "outputs": [
        {
          "output_type": "execute_result",
          "data": {
            "text/html": [
              "<div>\n",
              "<style scoped>\n",
              "    .dataframe tbody tr th:only-of-type {\n",
              "        vertical-align: middle;\n",
              "    }\n",
              "\n",
              "    .dataframe tbody tr th {\n",
              "        vertical-align: top;\n",
              "    }\n",
              "\n",
              "    .dataframe thead th {\n",
              "        text-align: right;\n",
              "    }\n",
              "</style>\n",
              "<table border=\"1\" class=\"dataframe\">\n",
              "  <thead>\n",
              "    <tr style=\"text-align: right;\">\n",
              "      <th></th>\n",
              "      <th>Name</th>\n",
              "      <th>Gender</th>\n",
              "      <th>Age</th>\n",
              "      <th>address</th>\n",
              "      <th>profession</th>\n",
              "      <th>willing</th>\n",
              "      <th>choice</th>\n",
              "    </tr>\n",
              "  </thead>\n",
              "  <tbody>\n",
              "    <tr>\n",
              "      <th>0</th>\n",
              "      <td>muhammad showrov</td>\n",
              "      <td>Male</td>\n",
              "      <td>20-30</td>\n",
              "      <td>Town</td>\n",
              "      <td>Student</td>\n",
              "      <td>yes</td>\n",
              "      <td>Flowering plant</td>\n",
              "    </tr>\n",
              "    <tr>\n",
              "      <th>1</th>\n",
              "      <td>Jahirul Islam</td>\n",
              "      <td>Male</td>\n",
              "      <td>20-30</td>\n",
              "      <td>Town</td>\n",
              "      <td>Student</td>\n",
              "      <td>No</td>\n",
              "      <td>shrubs</td>\n",
              "    </tr>\n",
              "    <tr>\n",
              "      <th>2</th>\n",
              "      <td>Mohaiminul Islam</td>\n",
              "      <td>Male</td>\n",
              "      <td>20-30</td>\n",
              "      <td>Major city</td>\n",
              "      <td>Student</td>\n",
              "      <td>yes</td>\n",
              "      <td>Flowering plant</td>\n",
              "    </tr>\n",
              "    <tr>\n",
              "      <th>3</th>\n",
              "      <td>M.Ubaydulla</td>\n",
              "      <td>Male</td>\n",
              "      <td>20-30</td>\n",
              "      <td>Town</td>\n",
              "      <td>Student</td>\n",
              "      <td>yes</td>\n",
              "      <td>Flowering plant</td>\n",
              "    </tr>\n",
              "    <tr>\n",
              "      <th>4</th>\n",
              "      <td>niloy</td>\n",
              "      <td>Male</td>\n",
              "      <td>20-30</td>\n",
              "      <td>Town</td>\n",
              "      <td>Student</td>\n",
              "      <td>yes</td>\n",
              "      <td>Plant</td>\n",
              "    </tr>\n",
              "  </tbody>\n",
              "</table>\n",
              "</div>"
            ],
            "text/plain": [
              "               Name Gender    Age  ... profession willing           choice\n",
              "0  muhammad showrov   Male  20-30  ...    Student     yes  Flowering plant\n",
              "1     Jahirul Islam   Male  20-30  ...    Student      No           shrubs\n",
              "2  Mohaiminul Islam   Male  20-30  ...    Student     yes  Flowering plant\n",
              "3       M.Ubaydulla   Male  20-30  ...    Student     yes  Flowering plant\n",
              "4             niloy   Male  20-30  ...    Student     yes            Plant\n",
              "\n",
              "[5 rows x 7 columns]"
            ]
          },
          "metadata": {},
          "execution_count": 7
        }
      ]
    },
    {
      "cell_type": "code",
      "metadata": {
        "colab": {
          "base_uri": "https://localhost:8080/"
        },
        "id": "0XWsg08wBbKk",
        "outputId": "9a156bbc-ab32-49b0-f9bd-01a219e04d7e"
      },
      "source": [
        "wtmoc.isnull().sum()"
      ],
      "execution_count": 8,
      "outputs": [
        {
          "output_type": "execute_result",
          "data": {
            "text/plain": [
              "Name            0\n",
              "Gender          0\n",
              "Age             0\n",
              "address         0\n",
              "profession      0\n",
              "willing         0\n",
              "choice        130\n",
              "dtype: int64"
            ]
          },
          "metadata": {},
          "execution_count": 8
        }
      ]
    },
    {
      "cell_type": "markdown",
      "metadata": {
        "id": "TEirZpYKBlZE"
      },
      "source": [
        "**show shape**"
      ]
    },
    {
      "cell_type": "code",
      "metadata": {
        "colab": {
          "base_uri": "https://localhost:8080/"
        },
        "id": "_KkPZNM4BnPz",
        "outputId": "fc4715b8-07bc-468e-92f0-e9a77968422d"
      },
      "source": [
        "wtmoc.shape"
      ],
      "execution_count": 9,
      "outputs": [
        {
          "output_type": "execute_result",
          "data": {
            "text/plain": [
              "(1002, 7)"
            ]
          },
          "metadata": {},
          "execution_count": 9
        }
      ]
    },
    {
      "cell_type": "markdown",
      "metadata": {
        "id": "VIAtNw15Bt5L"
      },
      "source": [
        "**show all information with missing value**"
      ]
    },
    {
      "cell_type": "code",
      "metadata": {
        "colab": {
          "base_uri": "https://localhost:8080/"
        },
        "id": "E5-_2TUpBvvj",
        "outputId": "fae3ad53-6155-4d75-b6a3-a2f18551655c"
      },
      "source": [
        "wtmoc.info()"
      ],
      "execution_count": 10,
      "outputs": [
        {
          "output_type": "stream",
          "name": "stdout",
          "text": [
            "<class 'pandas.core.frame.DataFrame'>\n",
            "RangeIndex: 1002 entries, 0 to 1001\n",
            "Data columns (total 7 columns):\n",
            " #   Column      Non-Null Count  Dtype \n",
            "---  ------      --------------  ----- \n",
            " 0   Name        1002 non-null   object\n",
            " 1   Gender      1002 non-null   object\n",
            " 2   Age         1002 non-null   object\n",
            " 3   address     1002 non-null   object\n",
            " 4   profession  1002 non-null   object\n",
            " 5   willing     1002 non-null   object\n",
            " 6   choice      872 non-null    object\n",
            "dtypes: object(7)\n",
            "memory usage: 54.9+ KB\n"
          ]
        }
      ]
    },
    {
      "cell_type": "code",
      "metadata": {
        "colab": {
          "base_uri": "https://localhost:8080/"
        },
        "id": "c9NrZK5oBzLz",
        "outputId": "84437577-eb77-415d-c00c-d3acb13e7fcb"
      },
      "source": [
        "wtmoc.isnull().sum()"
      ],
      "execution_count": 11,
      "outputs": [
        {
          "output_type": "execute_result",
          "data": {
            "text/plain": [
              "Name            0\n",
              "Gender          0\n",
              "Age             0\n",
              "address         0\n",
              "profession      0\n",
              "willing         0\n",
              "choice        130\n",
              "dtype: int64"
            ]
          },
          "metadata": {},
          "execution_count": 11
        }
      ]
    },
    {
      "cell_type": "markdown",
      "metadata": {
        "id": "SZ_vM10FB5SV"
      },
      "source": [
        "**Import library for data** **visualization** **bold text**"
      ]
    },
    {
      "cell_type": "code",
      "metadata": {
        "id": "O9Is6YTeB74c"
      },
      "source": [
        "import matplotlib.pyplot as plt\n",
        "%matplotlib inline\n",
        "import seaborn as sns\n",
        "sns.set()"
      ],
      "execution_count": 12,
      "outputs": []
    },
    {
      "cell_type": "markdown",
      "metadata": {
        "id": "2NJSSoVgCI29"
      },
      "source": [
        "**Create a function for showing the graph**"
      ]
    },
    {
      "cell_type": "code",
      "metadata": {
        "id": "ne4CDfiPCKbD"
      },
      "source": [
        "def bar_chart(feature):\n",
        "  yes = wtmoc[wtmoc['willing']==1][feature].value_counts()\n",
        "  no = wtmoc[wtmoc['willing']==0][feature].value_counts()\n",
        "  df = pd.DataFrame([yes,no])\n",
        "  df.index = ['Yes','No']\n",
        "  df.plot(kind = 'bar',stacked=True, figsize=(10,5))"
      ],
      "execution_count": 13,
      "outputs": []
    },
    {
      "cell_type": "code",
      "metadata": {
        "colab": {
          "base_uri": "https://localhost:8080/",
          "height": 206
        },
        "id": "qhLlavj6COWD",
        "outputId": "dbb2d2d3-56c1-49fb-a235-589a61e0f53d"
      },
      "source": [
        "wtmoc.head()"
      ],
      "execution_count": 14,
      "outputs": [
        {
          "output_type": "execute_result",
          "data": {
            "text/html": [
              "<div>\n",
              "<style scoped>\n",
              "    .dataframe tbody tr th:only-of-type {\n",
              "        vertical-align: middle;\n",
              "    }\n",
              "\n",
              "    .dataframe tbody tr th {\n",
              "        vertical-align: top;\n",
              "    }\n",
              "\n",
              "    .dataframe thead th {\n",
              "        text-align: right;\n",
              "    }\n",
              "</style>\n",
              "<table border=\"1\" class=\"dataframe\">\n",
              "  <thead>\n",
              "    <tr style=\"text-align: right;\">\n",
              "      <th></th>\n",
              "      <th>Name</th>\n",
              "      <th>Gender</th>\n",
              "      <th>Age</th>\n",
              "      <th>address</th>\n",
              "      <th>profession</th>\n",
              "      <th>willing</th>\n",
              "      <th>choice</th>\n",
              "    </tr>\n",
              "  </thead>\n",
              "  <tbody>\n",
              "    <tr>\n",
              "      <th>0</th>\n",
              "      <td>muhammad showrov</td>\n",
              "      <td>Male</td>\n",
              "      <td>20-30</td>\n",
              "      <td>Town</td>\n",
              "      <td>Student</td>\n",
              "      <td>yes</td>\n",
              "      <td>Flowering plant</td>\n",
              "    </tr>\n",
              "    <tr>\n",
              "      <th>1</th>\n",
              "      <td>Jahirul Islam</td>\n",
              "      <td>Male</td>\n",
              "      <td>20-30</td>\n",
              "      <td>Town</td>\n",
              "      <td>Student</td>\n",
              "      <td>No</td>\n",
              "      <td>shrubs</td>\n",
              "    </tr>\n",
              "    <tr>\n",
              "      <th>2</th>\n",
              "      <td>Mohaiminul Islam</td>\n",
              "      <td>Male</td>\n",
              "      <td>20-30</td>\n",
              "      <td>Major city</td>\n",
              "      <td>Student</td>\n",
              "      <td>yes</td>\n",
              "      <td>Flowering plant</td>\n",
              "    </tr>\n",
              "    <tr>\n",
              "      <th>3</th>\n",
              "      <td>M.Ubaydulla</td>\n",
              "      <td>Male</td>\n",
              "      <td>20-30</td>\n",
              "      <td>Town</td>\n",
              "      <td>Student</td>\n",
              "      <td>yes</td>\n",
              "      <td>Flowering plant</td>\n",
              "    </tr>\n",
              "    <tr>\n",
              "      <th>4</th>\n",
              "      <td>niloy</td>\n",
              "      <td>Male</td>\n",
              "      <td>20-30</td>\n",
              "      <td>Town</td>\n",
              "      <td>Student</td>\n",
              "      <td>yes</td>\n",
              "      <td>Plant</td>\n",
              "    </tr>\n",
              "  </tbody>\n",
              "</table>\n",
              "</div>"
            ],
            "text/plain": [
              "               Name Gender    Age  ... profession willing           choice\n",
              "0  muhammad showrov   Male  20-30  ...    Student     yes  Flowering plant\n",
              "1     Jahirul Islam   Male  20-30  ...    Student      No           shrubs\n",
              "2  Mohaiminul Islam   Male  20-30  ...    Student     yes  Flowering plant\n",
              "3       M.Ubaydulla   Male  20-30  ...    Student     yes  Flowering plant\n",
              "4             niloy   Male  20-30  ...    Student     yes            Plant\n",
              "\n",
              "[5 rows x 7 columns]"
            ]
          },
          "metadata": {},
          "execution_count": 14
        }
      ]
    },
    {
      "cell_type": "code",
      "metadata": {
        "id": "KZQ_xDWzCRH9"
      },
      "source": [
        "wtmoc_test_data = [wtmoc]"
      ],
      "execution_count": 15,
      "outputs": []
    },
    {
      "cell_type": "markdown",
      "metadata": {
        "id": "E1xCu9yMCXTz"
      },
      "source": [
        "**Training and Testing and Model Evaluation**"
      ]
    },
    {
      "cell_type": "code",
      "metadata": {
        "colab": {
          "base_uri": "https://localhost:8080/"
        },
        "id": "kc5Ri5bHCZZt",
        "outputId": "36b75ea8-362f-4e33-84e6-ccc79ad189d9"
      },
      "source": [
        "wtmoc['Gender'].value_counts()"
      ],
      "execution_count": 16,
      "outputs": [
        {
          "output_type": "execute_result",
          "data": {
            "text/plain": [
              "Female    523\n",
              "Male      479\n",
              "Name: Gender, dtype: int64"
            ]
          },
          "metadata": {},
          "execution_count": 16
        }
      ]
    },
    {
      "cell_type": "code",
      "metadata": {
        "id": "w4A4B5nvCcjL"
      },
      "source": [
        "gender_mapping = {\"Male\": 0, \"Female\": 1}\n",
        "for dataset in wtmoc_test_data:\n",
        "    dataset['Gender'] = dataset['Gender'].map(gender_mapping )"
      ],
      "execution_count": 17,
      "outputs": []
    },
    {
      "cell_type": "code",
      "metadata": {
        "colab": {
          "base_uri": "https://localhost:8080/"
        },
        "id": "7aDkip5ZChM5",
        "outputId": "7e285e7d-bab7-4f42-ac12-9ef8f72c957f"
      },
      "source": [
        "wtmoc['Gender'].value_counts()"
      ],
      "execution_count": 18,
      "outputs": [
        {
          "output_type": "execute_result",
          "data": {
            "text/plain": [
              "1    523\n",
              "0    479\n",
              "Name: Gender, dtype: int64"
            ]
          },
          "metadata": {},
          "execution_count": 18
        }
      ]
    },
    {
      "cell_type": "code",
      "metadata": {
        "colab": {
          "base_uri": "https://localhost:8080/"
        },
        "id": "qhcQzMbfCkY6",
        "outputId": "e5befb5b-e6d9-4fe6-ac47-1a9ad65b47d7"
      },
      "source": [
        "wtmoc['Age'].value_counts()"
      ],
      "execution_count": 19,
      "outputs": [
        {
          "output_type": "execute_result",
          "data": {
            "text/plain": [
              "20-30    442\n",
              "30-40    267\n",
              "40-50    180\n",
              "50-60    112\n",
              "20_30      1\n",
              "Name: Age, dtype: int64"
            ]
          },
          "metadata": {},
          "execution_count": 19
        }
      ]
    },
    {
      "cell_type": "code",
      "metadata": {
        "id": "KFfOq9FJCmwo"
      },
      "source": [
        "age_mapping = {\"20-30\": 0,\"20_30\":0,\"30-40\": 1,\"40-50\": 2,\"50-60\": 3}\n",
        "for dataset in wtmoc_test_data:\n",
        "    dataset['Age'] = dataset['Age'].map(age_mapping )"
      ],
      "execution_count": 20,
      "outputs": []
    },
    {
      "cell_type": "code",
      "metadata": {
        "colab": {
          "base_uri": "https://localhost:8080/"
        },
        "id": "SBJ_mnArCpYA",
        "outputId": "bf901d69-8765-46d7-e2e3-7bfee0b3fb98"
      },
      "source": [
        "wtmoc['profession'].value_counts()"
      ],
      "execution_count": 21,
      "outputs": [
        {
          "output_type": "execute_result",
          "data": {
            "text/plain": [
              "Job        406\n",
              "Student    356\n",
              "Jobless    240\n",
              "Name: profession, dtype: int64"
            ]
          },
          "metadata": {},
          "execution_count": 21
        }
      ]
    },
    {
      "cell_type": "code",
      "metadata": {
        "id": "XcrXuPsqCrgx"
      },
      "source": [
        "pro_mapping = {\"Job\": 0, \"job\": 0,\"Student\": 1, \"student\": 1,\"Jobless\": 2}\n",
        "for dataset in wtmoc_test_data:\n",
        "    dataset['profession'] = dataset['profession'].map(pro_mapping)"
      ],
      "execution_count": 22,
      "outputs": []
    },
    {
      "cell_type": "code",
      "metadata": {
        "colab": {
          "base_uri": "https://localhost:8080/"
        },
        "id": "QRDzsnFYCt7Y",
        "outputId": "a78d72ae-b591-4f38-b85b-e1876064e13f"
      },
      "source": [
        "wtmoc['address'].value_counts()"
      ],
      "execution_count": 23,
      "outputs": [
        {
          "output_type": "execute_result",
          "data": {
            "text/plain": [
              "City          268\n",
              "Town          266\n",
              "Major city    252\n",
              "Urban area    212\n",
              "city            2\n",
              "urban area      1\n",
              "Village         1\n",
              "Name: address, dtype: int64"
            ]
          },
          "metadata": {},
          "execution_count": 23
        }
      ]
    },
    {
      "cell_type": "code",
      "metadata": {
        "id": "5RIslAQoCwsx"
      },
      "source": [
        "ad_mapping = {\"City\": 0, \"city\": 0,\"urban area\": 1, \"Urban area\": 1,\"Major city\": 3,\"Town\": 4,\"Village\":1}\n",
        "for dataset in wtmoc_test_data:\n",
        "    dataset['address'] = dataset['address'].map(ad_mapping)"
      ],
      "execution_count": 24,
      "outputs": []
    },
    {
      "cell_type": "code",
      "metadata": {
        "colab": {
          "base_uri": "https://localhost:8080/"
        },
        "id": "LceBC1QoCzAA",
        "outputId": "23e225ae-7ff8-4ecc-b88b-dca0c5a511bc"
      },
      "source": [
        "wtmoc['willing'].value_counts()"
      ],
      "execution_count": 25,
      "outputs": [
        {
          "output_type": "execute_result",
          "data": {
            "text/plain": [
              "Yes    790\n",
              "No     169\n",
              "yes     43\n",
              "Name: willing, dtype: int64"
            ]
          },
          "metadata": {},
          "execution_count": 25
        }
      ]
    },
    {
      "cell_type": "code",
      "metadata": {
        "id": "ie_eZCZ9C1oY"
      },
      "source": [
        "will_mapping = {\"Yes\": 0, \"yes\": 0,\"No\": 1}\n",
        "for dataset in wtmoc_test_data:\n",
        "    dataset['willing'] = dataset['willing'].map(will_mapping)"
      ],
      "execution_count": 26,
      "outputs": []
    },
    {
      "cell_type": "code",
      "metadata": {
        "colab": {
          "base_uri": "https://localhost:8080/",
          "height": 330
        },
        "id": "d0LIjoSEC4jJ",
        "outputId": "b8242c86-04ba-447b-d4a2-77de6a49df50"
      },
      "source": [
        "bar_chart(\"Age\")"
      ],
      "execution_count": 27,
      "outputs": [
        {
          "output_type": "display_data",
          "data": {
            "image/png": "[encoded data removed]",
            "text/plain": [
              "<Figure size 720x360 with 1 Axes>"
            ]
          },
          "metadata": {}
        }
      ]
    },
    {
      "cell_type": "code",
      "metadata": {
        "colab": {
          "base_uri": "https://localhost:8080/",
          "height": 330
        },
        "id": "h7HtskTkO6o0",
        "outputId": "0b50f31b-bed0-41a0-e8b3-1c97d2ff5381"
      },
      "source": [
        "bar_chart(\"address\")"
      ],
      "execution_count": 28,
      "outputs": [
        {
          "output_type": "display_data",
          "data": {
            "image/png": "[encoded data removed]",
            "text/plain": [
              "<Figure size 720x360 with 1 Axes>"
            ]
          },
          "metadata": {}
        }
      ]
    },
    {
      "cell_type": "code",
      "metadata": {
        "colab": {
          "base_uri": "https://localhost:8080/",
          "height": 330
        },
        "id": "jCUyGxB8O-18",
        "outputId": "7b481a00-8a3a-4490-9e0a-e6d3810b72aa"
      },
      "source": [
        "bar_chart(\"willing\")"
      ],
      "execution_count": 29,
      "outputs": [
        {
          "output_type": "display_data",
          "data": {
            "image/png": "[encoded data removed]",
            "text/plain": [
              "<Figure size 720x360 with 1 Axes>"
            ]
          },
          "metadata": {}
        }
      ]
    },
    {
      "cell_type": "code",
      "metadata": {
        "colab": {
          "base_uri": "https://localhost:8080/",
          "height": 330
        },
        "id": "YG4-TFs2PMxJ",
        "outputId": "1a7146eb-4765-4c97-ab8c-903aeaea416e"
      },
      "source": [
        "bar_chart(\"profession\")"
      ],
      "execution_count": 30,
      "outputs": [
        {
          "output_type": "display_data",
          "data": {
            "image/png": "[encoded data removed]",
            "text/plain": [
              "<Figure size 720x360 with 1 Axes>"
            ]
          },
          "metadata": {}
        }
      ]
    },
    {
      "cell_type": "code",
      "metadata": {
        "colab": {
          "base_uri": "https://localhost:8080/",
          "height": 330
        },
        "id": "L7LYREw4PNdo",
        "outputId": "75149967-d9d0-4eac-b77e-fc306f8e8441"
      },
      "source": [
        "bar_chart(\"Gender\")"
      ],
      "execution_count": 31,
      "outputs": [
        {
          "output_type": "display_data",
          "data": {
            "image/png": "[encoded data removed]",
            "text/plain": [
              "<Figure size 720x360 with 1 Axes>"
            ]
          },
          "metadata": {}
        }
      ]
    },
    {
      "cell_type": "code",
      "metadata": {
        "colab": {
          "base_uri": "https://localhost:8080/",
          "height": 206
        },
        "id": "QCs0QF41PPoQ",
        "outputId": "21ea46f0-0467-4296-d85d-bf6730c0732d"
      },
      "source": [
        "wtmoc.head()"
      ],
      "execution_count": 32,
      "outputs": [
        {
          "output_type": "execute_result",
          "data": {
            "text/html": [
              "<div>\n",
              "<style scoped>\n",
              "    .dataframe tbody tr th:only-of-type {\n",
              "        vertical-align: middle;\n",
              "    }\n",
              "\n",
              "    .dataframe tbody tr th {\n",
              "        vertical-align: top;\n",
              "    }\n",
              "\n",
              "    .dataframe thead th {\n",
              "        text-align: right;\n",
              "    }\n",
              "</style>\n",
              "<table border=\"1\" class=\"dataframe\">\n",
              "  <thead>\n",
              "    <tr style=\"text-align: right;\">\n",
              "      <th></th>\n",
              "      <th>Name</th>\n",
              "      <th>Gender</th>\n",
              "      <th>Age</th>\n",
              "      <th>address</th>\n",
              "      <th>profession</th>\n",
              "      <th>willing</th>\n",
              "      <th>choice</th>\n",
              "    </tr>\n",
              "  </thead>\n",
              "  <tbody>\n",
              "    <tr>\n",
              "      <th>0</th>\n",
              "      <td>muhammad showrov</td>\n",
              "      <td>0</td>\n",
              "      <td>0</td>\n",
              "      <td>4</td>\n",
              "      <td>1</td>\n",
              "      <td>0</td>\n",
              "      <td>Flowering plant</td>\n",
              "    </tr>\n",
              "    <tr>\n",
              "      <th>1</th>\n",
              "      <td>Jahirul Islam</td>\n",
              "      <td>0</td>\n",
              "      <td>0</td>\n",
              "      <td>4</td>\n",
              "      <td>1</td>\n",
              "      <td>1</td>\n",
              "      <td>shrubs</td>\n",
              "    </tr>\n",
              "    <tr>\n",
              "      <th>2</th>\n",
              "      <td>Mohaiminul Islam</td>\n",
              "      <td>0</td>\n",
              "      <td>0</td>\n",
              "      <td>3</td>\n",
              "      <td>1</td>\n",
              "      <td>0</td>\n",
              "      <td>Flowering plant</td>\n",
              "    </tr>\n",
              "    <tr>\n",
              "      <th>3</th>\n",
              "      <td>M.Ubaydulla</td>\n",
              "      <td>0</td>\n",
              "      <td>0</td>\n",
              "      <td>4</td>\n",
              "      <td>1</td>\n",
              "      <td>0</td>\n",
              "      <td>Flowering plant</td>\n",
              "    </tr>\n",
              "    <tr>\n",
              "      <th>4</th>\n",
              "      <td>niloy</td>\n",
              "      <td>0</td>\n",
              "      <td>0</td>\n",
              "      <td>4</td>\n",
              "      <td>1</td>\n",
              "      <td>0</td>\n",
              "      <td>Plant</td>\n",
              "    </tr>\n",
              "  </tbody>\n",
              "</table>\n",
              "</div>"
            ],
            "text/plain": [
              "               Name  Gender  Age  address  profession  willing           choice\n",
              "0  muhammad showrov       0    0        4           1        0  Flowering plant\n",
              "1     Jahirul Islam       0    0        4           1        1           shrubs\n",
              "2  Mohaiminul Islam       0    0        3           1        0  Flowering plant\n",
              "3       M.Ubaydulla       0    0        4           1        0  Flowering plant\n",
              "4             niloy       0    0        4           1        0            Plant"
            ]
          },
          "metadata": {},
          "execution_count": 32
        }
      ]
    },
    {
      "cell_type": "markdown",
      "metadata": {
        "id": "-S4ivc5qPT_W"
      },
      "source": [
        "**Dropping Unncecssary attribute**"
      ]
    },
    {
      "cell_type": "code",
      "metadata": {
        "id": "CB-3FJrGuX1Q"
      },
      "source": [
        ""
      ],
      "execution_count": 32,
      "outputs": []
    },
    {
      "cell_type": "code",
      "metadata": {
        "id": "_vtJH7GNPV18"
      },
      "source": [
        "features_drop = ['Name','choice']\n",
        "wtmoc = wtmoc.drop(features_drop, axis=1)"
      ],
      "execution_count": 33,
      "outputs": []
    },
    {
      "cell_type": "code",
      "metadata": {
        "colab": {
          "base_uri": "https://localhost:8080/",
          "height": 206
        },
        "id": "NgiXaX7FPYrM",
        "outputId": "566f9c4d-e471-4133-b239-1702fdb07668"
      },
      "source": [
        "wtmoc.head()"
      ],
      "execution_count": 34,
      "outputs": [
        {
          "output_type": "execute_result",
          "data": {
            "text/html": [
              "<div>\n",
              "<style scoped>\n",
              "    .dataframe tbody tr th:only-of-type {\n",
              "        vertical-align: middle;\n",
              "    }\n",
              "\n",
              "    .dataframe tbody tr th {\n",
              "        vertical-align: top;\n",
              "    }\n",
              "\n",
              "    .dataframe thead th {\n",
              "        text-align: right;\n",
              "    }\n",
              "</style>\n",
              "<table border=\"1\" class=\"dataframe\">\n",
              "  <thead>\n",
              "    <tr style=\"text-align: right;\">\n",
              "      <th></th>\n",
              "      <th>Gender</th>\n",
              "      <th>Age</th>\n",
              "      <th>address</th>\n",
              "      <th>profession</th>\n",
              "      <th>willing</th>\n",
              "    </tr>\n",
              "  </thead>\n",
              "  <tbody>\n",
              "    <tr>\n",
              "      <th>0</th>\n",
              "      <td>0</td>\n",
              "      <td>0</td>\n",
              "      <td>4</td>\n",
              "      <td>1</td>\n",
              "      <td>0</td>\n",
              "    </tr>\n",
              "    <tr>\n",
              "      <th>1</th>\n",
              "      <td>0</td>\n",
              "      <td>0</td>\n",
              "      <td>4</td>\n",
              "      <td>1</td>\n",
              "      <td>1</td>\n",
              "    </tr>\n",
              "    <tr>\n",
              "      <th>2</th>\n",
              "      <td>0</td>\n",
              "      <td>0</td>\n",
              "      <td>3</td>\n",
              "      <td>1</td>\n",
              "      <td>0</td>\n",
              "    </tr>\n",
              "    <tr>\n",
              "      <th>3</th>\n",
              "      <td>0</td>\n",
              "      <td>0</td>\n",
              "      <td>4</td>\n",
              "      <td>1</td>\n",
              "      <td>0</td>\n",
              "    </tr>\n",
              "    <tr>\n",
              "      <th>4</th>\n",
              "      <td>0</td>\n",
              "      <td>0</td>\n",
              "      <td>4</td>\n",
              "      <td>1</td>\n",
              "      <td>0</td>\n",
              "    </tr>\n",
              "  </tbody>\n",
              "</table>\n",
              "</div>"
            ],
            "text/plain": [
              "   Gender  Age  address  profession  willing\n",
              "0       0    0        4           1        0\n",
              "1       0    0        4           1        1\n",
              "2       0    0        3           1        0\n",
              "3       0    0        4           1        0\n",
              "4       0    0        4           1        0"
            ]
          },
          "metadata": {},
          "execution_count": 34
        }
      ]
    },
    {
      "cell_type": "code",
      "metadata": {
        "colab": {
          "base_uri": "https://localhost:8080/"
        },
        "id": "bNmuUlvPPayb",
        "outputId": "d8600c0f-749c-4f2b-8d8a-2e2c7200f6f4"
      },
      "source": [
        "# (X_TRAIN->train_data, Y_TRAIN->target), X_TEST, Y_TEST\n",
        "wtmoc_data = wtmoc.drop('willing', axis=1)     \n",
        "target = wtmoc['willing']\n",
        "\n",
        "wtmoc_data.shape, target.shape"
      ],
      "execution_count": 35,
      "outputs": [
        {
          "output_type": "execute_result",
          "data": {
            "text/plain": [
              "((1002, 4), (1002,))"
            ]
          },
          "metadata": {},
          "execution_count": 35
        }
      ]
    },
    {
      "cell_type": "code",
      "metadata": {
        "colab": {
          "base_uri": "https://localhost:8080/"
        },
        "id": "ds3srpAaPfuc",
        "outputId": "f87d51bd-ffeb-462f-97de-3eff791165ba"
      },
      "source": [
        "#Start Confusion Matrix Evaluation\n",
        "\n",
        "from sklearn.model_selection import train_test_split\n",
        "X_train, X_test, y_train, y_test = train_test_split(wtmoc_data, target, test_size=.20, random_state=42)\n",
        "print(\"X_train: \", X_train.shape)\n",
        "print(\"X_test: \", X_test.shape)\n",
        "print(\"y_train: \", y_train.shape)\n",
        "print(\"y_test: \", y_test.shape)\n",
        "print(y_test)\n",
        "\n",
        "y_test.value_counts()"
      ],
      "execution_count": 36,
      "outputs": [
        {
          "output_type": "stream",
          "name": "stdout",
          "text": [
            "X_train:  (801, 4)\n",
            "X_test:  (201, 4)\n",
            "y_train:  (801,)\n",
            "y_test:  (201,)\n",
            "521    0\n",
            "739    0\n",
            "823    0\n",
            "662    0\n",
            "411    0\n",
            "      ..\n",
            "332    0\n",
            "208    0\n",
            "615    0\n",
            "78     0\n",
            "29     0\n",
            "Name: willing, Length: 201, dtype: int64\n"
          ]
        },
        {
          "output_type": "execute_result",
          "data": {
            "text/plain": [
              "0    160\n",
              "1     41\n",
              "Name: willing, dtype: int64"
            ]
          },
          "metadata": {},
          "execution_count": 36
        }
      ]
    },
    {
      "cell_type": "code",
      "metadata": {
        "colab": {
          "base_uri": "https://localhost:8080/"
        },
        "id": "GO21Wa5iPgn9",
        "outputId": "df54cc09-054c-4d61-8938-db89040590d0"
      },
      "source": [
        "wtmoc.isnull().sum()"
      ],
      "execution_count": 37,
      "outputs": [
        {
          "output_type": "execute_result",
          "data": {
            "text/plain": [
              "Gender        0\n",
              "Age           0\n",
              "address       0\n",
              "profession    0\n",
              "willing       0\n",
              "dtype: int64"
            ]
          },
          "metadata": {},
          "execution_count": 37
        }
      ]
    },
    {
      "cell_type": "code",
      "metadata": {
        "id": "SZ6DO_ykPkBD"
      },
      "source": [
        "# Importing Classifier Modules\n",
        "from sklearn.tree import DecisionTreeClassifier\n",
        "\n",
        "dt = DecisionTreeClassifier()\n",
        "dt.fit(X_train, y_train)\n",
        "y_pred = dt.predict(X_test)"
      ],
      "execution_count": 38,
      "outputs": []
    },
    {
      "cell_type": "code",
      "metadata": {
        "colab": {
          "base_uri": "https://localhost:8080/"
        },
        "id": "Yo8iXbJBPmlZ",
        "outputId": "6a8f14b1-818a-496d-83e2-4ffa28e3e360"
      },
      "source": [
        "from sklearn.metrics import confusion_matrix,classification_report\n",
        "print(confusion_matrix(y_test, y_pred))\n",
        "print(classification_report(y_test,y_pred))"
      ],
      "execution_count": 39,
      "outputs": [
        {
          "output_type": "stream",
          "name": "stdout",
          "text": [
            "[[158   2]\n",
            " [ 40   1]]\n",
            "              precision    recall  f1-score   support\n",
            "\n",
            "           0       0.80      0.99      0.88       160\n",
            "           1       0.33      0.02      0.05        41\n",
            "\n",
            "    accuracy                           0.79       201\n",
            "   macro avg       0.57      0.51      0.46       201\n",
            "weighted avg       0.70      0.79      0.71       201\n",
            "\n"
          ]
        }
      ]
    },
    {
      "cell_type": "code",
      "metadata": {
        "colab": {
          "base_uri": "https://localhost:8080/"
        },
        "id": "0UdvPnIDPopY",
        "outputId": "74d26089-598f-4035-de2a-318628383b0b"
      },
      "source": [
        "from sklearn.metrics import accuracy_score\n",
        "print(accuracy_score(y_test, y_pred))"
      ],
      "execution_count": 40,
      "outputs": [
        {
          "output_type": "stream",
          "name": "stdout",
          "text": [
            "0.7910447761194029\n"
          ]
        }
      ]
    },
    {
      "cell_type": "code",
      "metadata": {
        "id": "HQwrSJdyPqxy"
      },
      "source": [
        "from sklearn.ensemble import RandomForestClassifier\n",
        "\n",
        "dt = RandomForestClassifier()\n",
        "dt.fit(X_train, y_train)\n",
        "y_pred = dt.predict(X_test)"
      ],
      "execution_count": 41,
      "outputs": []
    },
    {
      "cell_type": "code",
      "metadata": {
        "colab": {
          "base_uri": "https://localhost:8080/"
        },
        "id": "Hc15YGtvPtTJ",
        "outputId": "a5ccfe77-23cb-4018-c5d1-752c9b901f6e"
      },
      "source": [
        "from sklearn.metrics import confusion_matrix,classification_report\n",
        "print(confusion_matrix(y_test, y_pred))\n",
        "print(classification_report(y_test,y_pred))"
      ],
      "execution_count": 42,
      "outputs": [
        {
          "output_type": "stream",
          "name": "stdout",
          "text": [
            "[[158   2]\n",
            " [ 41   0]]\n",
            "              precision    recall  f1-score   support\n",
            "\n",
            "           0       0.79      0.99      0.88       160\n",
            "           1       0.00      0.00      0.00        41\n",
            "\n",
            "    accuracy                           0.79       201\n",
            "   macro avg       0.40      0.49      0.44       201\n",
            "weighted avg       0.63      0.79      0.70       201\n",
            "\n"
          ]
        }
      ]
    },
    {
      "cell_type": "code",
      "metadata": {
        "colab": {
          "base_uri": "https://localhost:8080/"
        },
        "id": "IUrtAbCRPvw3",
        "outputId": "535e1e1f-c1f0-4d98-8f66-c334edec1b4c"
      },
      "source": [
        "print(accuracy_score(y_test, y_pred))"
      ],
      "execution_count": 43,
      "outputs": [
        {
          "output_type": "stream",
          "name": "stdout",
          "text": [
            "0.7860696517412935\n"
          ]
        }
      ]
    }
  ]
}